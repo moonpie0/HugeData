{
 "cells": [
  {
   "cell_type": "code",
   "execution_count": 6,
   "metadata": {},
   "outputs": [],
   "source": [
    "import os\n",
    "import numpy as np\n",
    "from tqdm import tqdm\n",
    "from collections import defaultdict\n",
    "from convert_data import *\n",
    "from bias import  *\n",
    "import time\n",
    "# 加载数据\n",
    "def load_data(train_path='./data/train.txt', test_path='./data/test.txt'):\n",
    "    \n",
    "    train_user_data,train_item_data = get_train_data(train_path)\n",
    "    _,bx,bi = get_bias(train_user_data,train_item_data)\n",
    "    train_data, valid_data = split_data(train_user_data)\n",
    "    train_data=train_user_data\n",
    "    #valid_data=get_valid_data('validation_data.txt')\n",
    "    test_data = get_test_data(test_path)\n",
    "    train_items=get_train_items(train_data)\n",
    "    return bx, bi, train_data, valid_data, test_data, train_items\n",
    "\n",
    "# 计算全局平均分\n",
    "def calculate_global_mean(train_user_data):\n",
    "    score_sum, count = 0.0, 0\n",
    "    for items in train_user_data.values():\n",
    "        for item_id, score in items:\n",
    "            score_sum += score\n",
    "            count += 1\n",
    "    return score_sum / count if count > 0 else 0\n",
    "\n",
    "# 预测评分\n",
    "def predict(user_id, item_id, bx, bi, P, Q, global_mean):\n",
    "    pre_score = (global_mean + \n",
    "                 bx[user_id] + \n",
    "                 bi[item_id] + \n",
    "                 np.dot(P[:, user_id], Q[:, item_id]))\n",
    "    return pre_score\n",
    "\n",
    "# 计算损失\n",
    "def calculate_loss(data, bx, bi, P, Q, global_mean):\n",
    "    loss, count = 0.0, 0\n",
    "    for user_id, items in data.items():\n",
    "        for item_id, true_score in items:\n",
    "            pred_score = predict(user_id, item_id, bx, bi, P, Q, global_mean)\n",
    "            loss += ((true_score - pred_score)*10) ** 2\n",
    "            count += 1\n",
    "    return loss / count if count > 0 else 0\n",
    "\n",
    "# 计算RMSE\n",
    "def calculate_rmse(data, bx, bi, P, Q, global_mean):\n",
    "    loss, count = 0.0, 0\n",
    "    for user_id, items in data.items():\n",
    "        for item_id, true_score in items:\n",
    "            pred_score = predict(user_id, item_id, bx, bi, P, Q, global_mean)\n",
    "            loss += ((true_score - pred_score)*10) ** 2\n",
    "            count += 1\n",
    "    return np.sqrt(loss / count) if count > 0 else float('inf')\n",
    "\n",
    "# 训练模型\n",
    "def train(bx, bi, train_data, valid_data, factor=50, lr=5e-3, lambda1=1e-2, lambda2=1e-2, lambda3=1e-2, lambda4=1e-2, epochs=10):\n",
    "    global_mean = calculate_global_mean(train_data)\n",
    "    Q = np.random.normal(0, 0.1, (factor, len(bi)))\n",
    "    P = np.random.normal(0, 0.1, (factor, len(bx)))\n",
    "\n",
    "    for epoch in range(epochs):\n",
    "        train_loss = train_one_epoch(bx, bi, train_data, P, Q, global_mean, lr, lambda1, lambda2, lambda3, lambda4)\n",
    "        #valid_loss = calculate_loss(valid_data, bx, bi, P, Q, global_mean)\n",
    "        train_rmse = calculate_rmse(train_data, bx, bi, P, Q, global_mean)\n",
    "        valid_rmse = calculate_rmse(valid_data, bx, bi, P, Q, global_mean)\n",
    "        print(f'Epoch {epoch + 1} train loss: {train_loss:.6f} train RMSE: {train_rmse:.6f} valid RMSE: {valid_rmse:.6f}')\n",
    "    return P, Q\n",
    "\n",
    "# 单个训练周期\n",
    "def train_one_epoch(bx, bi, train_data, P, Q, global_mean, lr, lambda1, lambda2, lambda3, lambda4):\n",
    "    train_loss, count = 0.0, 0\n",
    "    for user_id, items in tqdm(train_data.items()):\n",
    "        for item_id, true_score in items:\n",
    "            pred_score = predict(user_id, item_id, bx, bi, P, Q, global_mean)\n",
    "            error = true_score - pred_score\n",
    "\n",
    "            # 更新参数\n",
    "            bx[user_id] += lr * (error - lambda3 * bx[user_id])\n",
    "            bi[item_id] += lr * (error - lambda4 * bi[item_id])\n",
    "            P[:, user_id] += lr * (error * Q[:, item_id] - lambda1 * P[:, user_id])\n",
    "            Q[:, item_id] += lr * (error * P[:, user_id] - lambda2 * Q[:, item_id])\n",
    "\n",
    "            train_loss += error ** 2\n",
    "            count += 1\n",
    "    return train_loss / count if count > 0 else 0\n",
    "\n",
    "# 获取训练集中的所有物品ID\n",
    "def get_train_items(train_data):\n",
    "    train_items = set()\n",
    "    for user_id, items in train_data.items():\n",
    "        for item_id, _ in items:\n",
    "            train_items.add(item_id)\n",
    "    return train_items\n",
    "\n",
    "# 检查预测物品是否存在于训练集中\n",
    "def item_exists_in_train(item_id, train_items):\n",
    "    return item_id in train_items\n",
    "# 测试模型\n",
    "def write_result(predict_score, write_path):\n",
    "    with open(write_path, 'w') as f:\n",
    "        for user_id, items in predict_score.items():\n",
    "            f.write(f'{user_id}|6\\n')\n",
    "            for item_id, score in items:\n",
    "                f.write(f'{item_id} {score}\\n')\n",
    "                \n",
    "def test(bx, bi, test_data, train_items, P, Q, global_mean, write_path='./result/svd_result.txt'):\n",
    "    predict_score = defaultdict(list)  # 保存预测评分的字典\n",
    "    for user_id, item_ids in test_data.items():\n",
    "        for item_id in item_ids:\n",
    "            if item_id not in train_items:\n",
    "                pred_score = global_mean * 10\n",
    "            else:\n",
    "                pred_score = predict(user_id, item_id, bx, bi, P, Q, global_mean) * 10\n",
    "                \n",
    "            # 限制评分范围\n",
    "            if pred_score > 100.0:\n",
    "                pred_score = 100.0\n",
    "            elif pred_score < 0.0:\n",
    "                pred_score = 0.0\n",
    "            \n",
    "            # 保存预测评分到字典中\n",
    "            predict_score[user_id].append((item_id, pred_score))\n",
    "    \n",
    "    # 写入结果到文件\n",
    "    write_result(predict_score, write_path)\n",
    "    print('Testing completed and results written.')\n",
    "\n"
   ]
  },
  {
   "cell_type": "code",
   "execution_count": 7,
   "metadata": {},
   "outputs": [],
   "source": [
    "def format_time(seconds):\n",
    "    hours = int(seconds // 3600)\n",
    "    minutes = int((seconds % 3600) // 60)\n",
    "    seconds = int(seconds % 60)\n",
    "    return f'{hours}h {minutes}m {seconds}s'"
   ]
  },
  {
   "cell_type": "code",
   "execution_count": 8,
   "metadata": {},
   "outputs": [
    {
     "name": "stderr",
     "output_type": "stream",
     "text": [
      "100%|██████████| 19835/19835 [01:16<00:00, 260.70it/s]\n"
     ]
    },
    {
     "name": "stdout",
     "output_type": "stream",
     "text": [
      "Epoch 1 train loss: 7.551498 valid loss: 720.272510 train RMSE: 26.940388 valid RMSE: 26.837893\n"
     ]
    },
    {
     "name": "stderr",
     "output_type": "stream",
     "text": [
      "100%|██████████| 19835/19835 [01:16<00:00, 259.30it/s]\n"
     ]
    },
    {
     "name": "stdout",
     "output_type": "stream",
     "text": [
      "Epoch 2 train loss: 7.050658 valid loss: 646.226958 train RMSE: 25.652203 valid RMSE: 25.420994\n"
     ]
    },
    {
     "name": "stderr",
     "output_type": "stream",
     "text": [
      "100%|██████████| 19835/19835 [01:17<00:00, 256.65it/s]\n"
     ]
    },
    {
     "name": "stdout",
     "output_type": "stream",
     "text": [
      "Epoch 3 train loss: 6.407995 valid loss: 555.535005 train RMSE: 23.982886 valid RMSE: 23.569790\n"
     ]
    },
    {
     "name": "stderr",
     "output_type": "stream",
     "text": [
      "100%|██████████| 19835/19835 [01:16<00:00, 260.60it/s]\n"
     ]
    },
    {
     "name": "stdout",
     "output_type": "stream",
     "text": [
      "Epoch 4 train loss: 5.649480 valid loss: 462.302137 train RMSE: 22.065186 valid RMSE: 21.501212\n"
     ]
    },
    {
     "name": "stderr",
     "output_type": "stream",
     "text": [
      "100%|██████████| 19835/19835 [01:12<00:00, 273.66it/s]\n"
     ]
    },
    {
     "name": "stdout",
     "output_type": "stream",
     "text": [
      "Epoch 5 train loss: 4.874265 valid loss: 385.707447 train RMSE: 20.253842 valid RMSE: 19.639436\n"
     ]
    },
    {
     "name": "stderr",
     "output_type": "stream",
     "text": [
      "100%|██████████| 19835/19835 [01:13<00:00, 268.27it/s]\n"
     ]
    },
    {
     "name": "stdout",
     "output_type": "stream",
     "text": [
      "Epoch 6 train loss: 4.198286 valid loss: 328.696708 train RMSE: 18.729056 valid RMSE: 18.129995\n"
     ]
    },
    {
     "name": "stderr",
     "output_type": "stream",
     "text": [
      "100%|██████████| 19835/19835 [01:16<00:00, 259.08it/s]\n"
     ]
    },
    {
     "name": "stdout",
     "output_type": "stream",
     "text": [
      "Epoch 7 train loss: 3.661563 valid loss: 286.842535 train RMSE: 17.496290 valid RMSE: 16.936426\n"
     ]
    },
    {
     "name": "stderr",
     "output_type": "stream",
     "text": [
      "100%|██████████| 19835/19835 [01:11<00:00, 275.85it/s]\n"
     ]
    },
    {
     "name": "stdout",
     "output_type": "stream",
     "text": [
      "Epoch 8 train loss: 3.248897 valid loss: 255.695169 train RMSE: 16.509308 valid RMSE: 15.990471\n"
     ]
    },
    {
     "name": "stderr",
     "output_type": "stream",
     "text": [
      "100%|██████████| 19835/19835 [01:10<00:00, 280.35it/s]\n"
     ]
    },
    {
     "name": "stdout",
     "output_type": "stream",
     "text": [
      "Epoch 9 train loss: 2.932124 valid loss: 231.980044 train RMSE: 15.715240 valid RMSE: 15.230891\n"
     ]
    },
    {
     "name": "stderr",
     "output_type": "stream",
     "text": [
      "100%|██████████| 19835/19835 [01:10<00:00, 281.08it/s]\n"
     ]
    },
    {
     "name": "stdout",
     "output_type": "stream",
     "text": [
      "Epoch 10 train loss: 2.685947 valid loss: 213.510098 train RMSE: 15.069805 valid RMSE: 14.611985\n",
      "Testing completed and results written.\n",
      "RMSE: 15.069805\n",
      "Total Execution Time: 0h 16m 31s\n"
     ]
    }
   ],
   "source": [
    "# 主函数\n",
    "start_time = time.time()  # 记录开始时间\n",
    "bx, bi, train_data, valid_data, test_data, train_items = load_data()\n",
    "P, Q = train(bx, bi, train_data, valid_data)\n",
    "global_mean = calculate_global_mean(train_data)\n",
    "test(bx, bi, test_data, train_items,P, Q, global_mean)\n",
    "rmse = calculate_rmse(train_data, bx, bi, P, Q, global_mean)\n",
    "print(f'RMSE: {rmse:.6f}')\n",
    "\n",
    "end_time = time.time()  # 记录结束时间\n",
    "execution_time = end_time - start_time  # 计算执行时间\n",
    "\n",
    "# 输出执行时间，格式为小时、分钟、秒\n",
    "formatted_time = format_time(execution_time)\n",
    "print(f'Total Execution Time: {formatted_time}')\n",
    "\n"
   ]
  }
 ],
 "metadata": {
  "kernelspec": {
   "display_name": "pytorch",
   "language": "python",
   "name": "python3"
  },
  "language_info": {
   "codemirror_mode": {
    "name": "ipython",
    "version": 3
   },
   "file_extension": ".py",
   "mimetype": "text/x-python",
   "name": "python",
   "nbconvert_exporter": "python",
   "pygments_lexer": "ipython3",
   "version": "3.11.5"
  }
 },
 "nbformat": 4,
 "nbformat_minor": 2
}
